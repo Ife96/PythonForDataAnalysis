{
 "cells": [
  {
   "cell_type": "markdown",
   "id": "0a36513d",
   "metadata": {},
   "source": [
    "#### Numpy"
   ]
  },
  {
   "cell_type": "code",
   "execution_count": 1,
   "id": "9e1c522c",
   "metadata": {},
   "outputs": [
    {
     "name": "stdout",
     "output_type": "stream",
     "text": [
      "Requirement already satisfied: numpy in c:\\users\\aaginam\\appdata\\local\\anaconda3\\lib\\site-packages (1.26.4)\n"
     ]
    }
   ],
   "source": [
    "!pip install numpy # pip is python package manager"
   ]
  },
  {
   "cell_type": "code",
   "execution_count": 3,
   "id": "458331f7",
   "metadata": {},
   "outputs": [],
   "source": [
    "import numpy as np"
   ]
  },
  {
   "cell_type": "code",
   "execution_count": 4,
   "id": "d16b51ef",
   "metadata": {},
   "outputs": [],
   "source": [
    "numbers = np.array([3,5,6,7,8,9]) # takes a list of numbers and converts it to a numpy array"
   ]
  },
  {
   "cell_type": "code",
   "execution_count": 5,
   "id": "77234acc",
   "metadata": {},
   "outputs": [
    {
     "data": {
      "text/plain": [
       "array([3, 5, 6, 7, 8, 9])"
      ]
     },
     "execution_count": 5,
     "metadata": {},
     "output_type": "execute_result"
    }
   ],
   "source": [
    "numbers"
   ]
  },
  {
   "cell_type": "code",
   "execution_count": 6,
   "id": "17c36a4e",
   "metadata": {},
   "outputs": [],
   "source": [
    "scores = np.array((30, 40, 50, 20))"
   ]
  },
  {
   "cell_type": "code",
   "execution_count": 7,
   "id": "7645908d",
   "metadata": {},
   "outputs": [
    {
     "data": {
      "text/plain": [
       "array([30, 40, 50, 20])"
      ]
     },
     "execution_count": 7,
     "metadata": {},
     "output_type": "execute_result"
    }
   ],
   "source": [
    "scores"
   ]
  },
  {
   "cell_type": "code",
   "execution_count": 8,
   "id": "e139051b",
   "metadata": {},
   "outputs": [
    {
     "data": {
      "text/plain": [
       "numpy.ndarray"
      ]
     },
     "execution_count": 8,
     "metadata": {},
     "output_type": "execute_result"
    }
   ],
   "source": [
    "type(scores)"
   ]
  },
  {
   "cell_type": "code",
   "execution_count": 9,
   "id": "2074cee4",
   "metadata": {},
   "outputs": [],
   "source": [
    "student_ages = np.array([34, '23', 35])"
   ]
  },
  {
   "cell_type": "code",
   "execution_count": 11,
   "id": "f4620b58",
   "metadata": {},
   "outputs": [
    {
     "data": {
      "text/plain": [
       "array(['34', '23', '35'], dtype='<U11')"
      ]
     },
     "execution_count": 11,
     "metadata": {},
     "output_type": "execute_result"
    }
   ],
   "source": [
    "student_ages # dtype represents the data type of the items in the array"
   ]
  },
  {
   "cell_type": "code",
   "execution_count": 12,
   "id": "1a51e1f2",
   "metadata": {},
   "outputs": [],
   "source": [
    "weights = np.array([34.0, 23.5, 45.9], dtype='float32')"
   ]
  },
  {
   "cell_type": "code",
   "execution_count": 13,
   "id": "a2bb95e6",
   "metadata": {},
   "outputs": [
    {
     "data": {
      "text/plain": [
       "array([34. , 23.5, 45.9], dtype=float32)"
      ]
     },
     "execution_count": 13,
     "metadata": {},
     "output_type": "execute_result"
    }
   ],
   "source": [
    "weights"
   ]
  },
  {
   "cell_type": "code",
   "execution_count": 14,
   "id": "d8542c67",
   "metadata": {},
   "outputs": [],
   "source": [
    "heights = np.array([34.6, 23.4, 45.7])"
   ]
  },
  {
   "cell_type": "code",
   "execution_count": 15,
   "id": "a4b4c633",
   "metadata": {},
   "outputs": [
    {
     "data": {
      "text/plain": [
       "array([34.6, 23.4, 45.7])"
      ]
     },
     "execution_count": 15,
     "metadata": {},
     "output_type": "execute_result"
    }
   ],
   "source": [
    "heights"
   ]
  },
  {
   "cell_type": "code",
   "execution_count": 16,
   "id": "6f1ecae1",
   "metadata": {},
   "outputs": [
    {
     "data": {
      "text/plain": [
       "dtype('float64')"
      ]
     },
     "execution_count": 16,
     "metadata": {},
     "output_type": "execute_result"
    }
   ],
   "source": [
    "heights.dtype"
   ]
  },
  {
   "cell_type": "code",
   "execution_count": 18,
   "id": "8015299c",
   "metadata": {},
   "outputs": [
    {
     "data": {
      "text/plain": [
       "1"
      ]
     },
     "execution_count": 18,
     "metadata": {},
     "output_type": "execute_result"
    }
   ],
   "source": [
    "heights.ndim"
   ]
  },
  {
   "cell_type": "code",
   "execution_count": 19,
   "id": "486e8215",
   "metadata": {},
   "outputs": [],
   "source": [
    "array_2dim = np.array([[3, 5, 7], [5, 7, 9]])"
   ]
  },
  {
   "cell_type": "code",
   "execution_count": 20,
   "id": "82487ba4",
   "metadata": {},
   "outputs": [
    {
     "data": {
      "text/plain": [
       "array([[3, 5, 7],\n",
       "       [5, 7, 9]])"
      ]
     },
     "execution_count": 20,
     "metadata": {},
     "output_type": "execute_result"
    }
   ],
   "source": [
    "array_2dim"
   ]
  },
  {
   "cell_type": "code",
   "execution_count": 22,
   "id": "da929267",
   "metadata": {},
   "outputs": [
    {
     "data": {
      "text/plain": [
       "2"
      ]
     },
     "execution_count": 22,
     "metadata": {},
     "output_type": "execute_result"
    }
   ],
   "source": [
    "array_2dim.ndim"
   ]
  },
  {
   "cell_type": "code",
   "execution_count": 23,
   "id": "b82b5cdb",
   "metadata": {},
   "outputs": [
    {
     "data": {
      "text/plain": [
       "(2, 3)"
      ]
     },
     "execution_count": 23,
     "metadata": {},
     "output_type": "execute_result"
    }
   ],
   "source": [
    "array_2dim.shape"
   ]
  },
  {
   "cell_type": "code",
   "execution_count": 24,
   "id": "17ff6d4e",
   "metadata": {},
   "outputs": [],
   "source": [
    "arr_2 = np.array([[2,5,6,7], [4,5,6,7], [5,6,7,8]])"
   ]
  },
  {
   "cell_type": "code",
   "execution_count": 25,
   "id": "82832bb8",
   "metadata": {},
   "outputs": [
    {
     "data": {
      "text/plain": [
       "(3, 4)"
      ]
     },
     "execution_count": 25,
     "metadata": {},
     "output_type": "execute_result"
    }
   ],
   "source": [
    "arr_2.shape"
   ]
  },
  {
   "cell_type": "code",
   "execution_count": 26,
   "id": "c0089633",
   "metadata": {},
   "outputs": [],
   "source": [
    "# Exercise : Create a 2 dim array of shape 4 by 4\n",
    "\n",
    "arr_3 = np.array([[2,5,6,7], [4,5,6,7], [5,6,7,8], [3,4,5,6]])"
   ]
  },
  {
   "cell_type": "code",
   "execution_count": 27,
   "id": "e94b1c75",
   "metadata": {},
   "outputs": [
    {
     "data": {
      "text/plain": [
       "(4, 4)"
      ]
     },
     "execution_count": 27,
     "metadata": {},
     "output_type": "execute_result"
    }
   ],
   "source": [
    "arr_3.shape"
   ]
  },
  {
   "cell_type": "code",
   "execution_count": 28,
   "id": "b5a15e79",
   "metadata": {},
   "outputs": [
    {
     "data": {
      "text/plain": [
       "16"
      ]
     },
     "execution_count": 28,
     "metadata": {},
     "output_type": "execute_result"
    }
   ],
   "source": [
    "arr_3.size"
   ]
  },
  {
   "cell_type": "code",
   "execution_count": 29,
   "id": "ef9bcbf7",
   "metadata": {},
   "outputs": [],
   "source": [
    "arr_4 = arr_3.reshape(2,8)"
   ]
  },
  {
   "cell_type": "code",
   "execution_count": 30,
   "id": "b8d4adb8",
   "metadata": {},
   "outputs": [
    {
     "data": {
      "text/plain": [
       "array([[2, 5, 6, 7, 4, 5, 6, 7],\n",
       "       [5, 6, 7, 8, 3, 4, 5, 6]])"
      ]
     },
     "execution_count": 30,
     "metadata": {},
     "output_type": "execute_result"
    }
   ],
   "source": [
    "arr_4"
   ]
  },
  {
   "cell_type": "code",
   "execution_count": 31,
   "id": "bea1e34e",
   "metadata": {},
   "outputs": [
    {
     "data": {
      "text/plain": [
       "(2, 8)"
      ]
     },
     "execution_count": 31,
     "metadata": {},
     "output_type": "execute_result"
    }
   ],
   "source": [
    "arr_4.shape"
   ]
  },
  {
   "cell_type": "code",
   "execution_count": 41,
   "id": "525f1429",
   "metadata": {},
   "outputs": [],
   "source": [
    "scores = np.array([40, '30', 20, '30', '60'])"
   ]
  },
  {
   "cell_type": "code",
   "execution_count": 42,
   "id": "5c929ff2",
   "metadata": {},
   "outputs": [
    {
     "data": {
      "text/plain": [
       "dtype('<U11')"
      ]
     },
     "execution_count": 42,
     "metadata": {},
     "output_type": "execute_result"
    }
   ],
   "source": [
    "scores.dtype"
   ]
  },
  {
   "cell_type": "code",
   "execution_count": 38,
   "id": "9616ec18",
   "metadata": {},
   "outputs": [],
   "source": [
    "# type casting \n",
    "\n",
    "scores = scores.astype('int')"
   ]
  },
  {
   "cell_type": "code",
   "execution_count": 39,
   "id": "c34b1d3e",
   "metadata": {},
   "outputs": [
    {
     "data": {
      "text/plain": [
       "array([40, 30, 20, 30, 60])"
      ]
     },
     "execution_count": 39,
     "metadata": {},
     "output_type": "execute_result"
    }
   ],
   "source": [
    "scores"
   ]
  },
  {
   "cell_type": "code",
   "execution_count": 40,
   "id": "f8f2a320",
   "metadata": {},
   "outputs": [
    {
     "data": {
      "text/plain": [
       "dtype('int32')"
      ]
     },
     "execution_count": 40,
     "metadata": {},
     "output_type": "execute_result"
    }
   ],
   "source": [
    "scores.dtype"
   ]
  },
  {
   "cell_type": "markdown",
   "id": "5f0c3f50",
   "metadata": {},
   "source": [
    "#### Indexing and Slicing"
   ]
  },
  {
   "cell_type": "code",
   "execution_count": 43,
   "id": "f59a5bc5",
   "metadata": {},
   "outputs": [],
   "source": [
    "fruits = np.array(['mango', 'orange', 'guava', 'pineapple'])"
   ]
  },
  {
   "cell_type": "code",
   "execution_count": 44,
   "id": "b22a1cd0",
   "metadata": {},
   "outputs": [
    {
     "data": {
      "text/plain": [
       "'mango'"
      ]
     },
     "execution_count": 44,
     "metadata": {},
     "output_type": "execute_result"
    }
   ],
   "source": [
    "fruits[0]"
   ]
  },
  {
   "cell_type": "code",
   "execution_count": 45,
   "id": "beadfcb5",
   "metadata": {},
   "outputs": [
    {
     "data": {
      "text/plain": [
       "'guava'"
      ]
     },
     "execution_count": 45,
     "metadata": {},
     "output_type": "execute_result"
    }
   ],
   "source": [
    "fruits[-2]"
   ]
  },
  {
   "cell_type": "code",
   "execution_count": 47,
   "id": "db67c0b7",
   "metadata": {},
   "outputs": [
    {
     "data": {
      "text/plain": [
       "array(['mango', 'orange', 'guava'], dtype='<U9')"
      ]
     },
     "execution_count": 47,
     "metadata": {},
     "output_type": "execute_result"
    }
   ],
   "source": [
    "fruits[0:3]"
   ]
  },
  {
   "cell_type": "code",
   "execution_count": 50,
   "id": "1a24a244",
   "metadata": {},
   "outputs": [],
   "source": [
    "scores = np.array([[3,4,5], [6,8,1], [2, 12, 14]])"
   ]
  },
  {
   "cell_type": "code",
   "execution_count": 51,
   "id": "cdbe1155",
   "metadata": {},
   "outputs": [
    {
     "data": {
      "text/plain": [
       "array([[ 3,  4,  5],\n",
       "       [ 6,  8,  1],\n",
       "       [ 2, 12, 14]])"
      ]
     },
     "execution_count": 51,
     "metadata": {},
     "output_type": "execute_result"
    }
   ],
   "source": [
    "scores"
   ]
  },
  {
   "cell_type": "code",
   "execution_count": 52,
   "id": "7674b2d7",
   "metadata": {},
   "outputs": [
    {
     "data": {
      "text/plain": [
       "3"
      ]
     },
     "execution_count": 52,
     "metadata": {},
     "output_type": "execute_result"
    }
   ],
   "source": [
    "scores[0,0]"
   ]
  },
  {
   "cell_type": "code",
   "execution_count": 53,
   "id": "81220af9",
   "metadata": {},
   "outputs": [
    {
     "data": {
      "text/plain": [
       "8"
      ]
     },
     "execution_count": 53,
     "metadata": {},
     "output_type": "execute_result"
    }
   ],
   "source": [
    "scores[1,1]"
   ]
  },
  {
   "cell_type": "code",
   "execution_count": 54,
   "id": "49bd00f9",
   "metadata": {},
   "outputs": [
    {
     "data": {
      "text/plain": [
       "14"
      ]
     },
     "execution_count": 54,
     "metadata": {},
     "output_type": "execute_result"
    }
   ],
   "source": [
    "scores[2,2]"
   ]
  },
  {
   "cell_type": "code",
   "execution_count": 55,
   "id": "3957302f",
   "metadata": {},
   "outputs": [
    {
     "data": {
      "text/plain": [
       "1"
      ]
     },
     "execution_count": 55,
     "metadata": {},
     "output_type": "execute_result"
    }
   ],
   "source": [
    "scores[-2,-1]"
   ]
  },
  {
   "cell_type": "code",
   "execution_count": 56,
   "id": "299d80f9",
   "metadata": {},
   "outputs": [
    {
     "data": {
      "text/plain": [
       "array([[3, 4, 5],\n",
       "       [6, 8, 1]])"
      ]
     },
     "execution_count": 56,
     "metadata": {},
     "output_type": "execute_result"
    }
   ],
   "source": [
    "scores[0:2,:]"
   ]
  },
  {
   "cell_type": "code",
   "execution_count": 58,
   "id": "821b5767",
   "metadata": {},
   "outputs": [
    {
     "data": {
      "text/plain": [
       "array([[4, 5],\n",
       "       [8, 1]])"
      ]
     },
     "execution_count": 58,
     "metadata": {},
     "output_type": "execute_result"
    }
   ],
   "source": [
    "scores[0:2,1:3]"
   ]
  },
  {
   "cell_type": "code",
   "execution_count": 62,
   "id": "39185595",
   "metadata": {},
   "outputs": [
    {
     "data": {
      "text/plain": [
       "array([[6, 8, 1]])"
      ]
     },
     "execution_count": 62,
     "metadata": {},
     "output_type": "execute_result"
    }
   ],
   "source": [
    "scores[1:-1]"
   ]
  },
  {
   "cell_type": "code",
   "execution_count": 60,
   "id": "8ea96323",
   "metadata": {},
   "outputs": [
    {
     "data": {
      "text/plain": [
       "array([[6, 8, 1]])"
      ]
     },
     "execution_count": 60,
     "metadata": {},
     "output_type": "execute_result"
    }
   ],
   "source": [
    "scores[1:-1]"
   ]
  },
  {
   "cell_type": "markdown",
   "id": "e0b2f067",
   "metadata": {},
   "source": [
    "#### Vectorized operations"
   ]
  },
  {
   "cell_type": "code",
   "execution_count": 63,
   "id": "7875c2f0",
   "metadata": {},
   "outputs": [],
   "source": [
    "scores = np.array([10, 12, 23, 45, 10])"
   ]
  },
  {
   "cell_type": "code",
   "execution_count": 64,
   "id": "e8f43635",
   "metadata": {},
   "outputs": [
    {
     "data": {
      "text/plain": [
       "array([100, 120, 230, 450, 100])"
      ]
     },
     "execution_count": 64,
     "metadata": {},
     "output_type": "execute_result"
    }
   ],
   "source": [
    "scores * 10"
   ]
  },
  {
   "cell_type": "code",
   "execution_count": 65,
   "id": "85af5b82",
   "metadata": {},
   "outputs": [
    {
     "data": {
      "text/plain": [
       "array([ 5,  7, 18, 40,  5])"
      ]
     },
     "execution_count": 65,
     "metadata": {},
     "output_type": "execute_result"
    }
   ],
   "source": [
    "scores - 5"
   ]
  },
  {
   "cell_type": "markdown",
   "id": "a52a3b7c",
   "metadata": {},
   "source": [
    "#### Pandas\n",
    "\n",
    "\n",
    "`Data Structures`\n",
    "\n",
    "- Series : 1 dimensional data structure that model a column\n",
    "\n",
    "- DataFrame : 2 dimensional data structure that models a table - rows and columns"
   ]
  },
  {
   "cell_type": "code",
   "execution_count": 69,
   "id": "2cb47012",
   "metadata": {},
   "outputs": [
    {
     "name": "stderr",
     "output_type": "stream",
     "text": [
      "C:\\Users\\aaginam\\AppData\\Local\\anaconda3\\Lib\\site-packages\\pandas\\core\\arrays\\masked.py:60: UserWarning: Pandas requires version '1.3.6' or newer of 'bottleneck' (version '1.3.5' currently installed).\n",
      "  from pandas.core import (\n"
     ]
    }
   ],
   "source": [
    "import pandas as pd"
   ]
  },
  {
   "cell_type": "code",
   "execution_count": 70,
   "id": "2a77c58d",
   "metadata": {},
   "outputs": [],
   "source": [
    "names = pd.Series(['Tolu', 'John', 'Femi', 'Rhoda'])"
   ]
  },
  {
   "cell_type": "code",
   "execution_count": 71,
   "id": "8812ed03",
   "metadata": {},
   "outputs": [
    {
     "data": {
      "text/plain": [
       "0     Tolu\n",
       "1     John\n",
       "2     Femi\n",
       "3    Rhoda\n",
       "dtype: object"
      ]
     },
     "execution_count": 71,
     "metadata": {},
     "output_type": "execute_result"
    }
   ],
   "source": [
    "names"
   ]
  },
  {
   "cell_type": "code",
   "execution_count": 80,
   "id": "6b7c9428",
   "metadata": {},
   "outputs": [
    {
     "data": {
      "text/plain": [
       "'Rhoda'"
      ]
     },
     "execution_count": 80,
     "metadata": {},
     "output_type": "execute_result"
    }
   ],
   "source": [
    "names[3]"
   ]
  },
  {
   "cell_type": "code",
   "execution_count": 83,
   "id": "879a6516",
   "metadata": {},
   "outputs": [],
   "source": [
    "scores = pd.Series([20, 30, 30, 40], index = ['a', 'b', 'c', 'd'], dtype='int64')"
   ]
  },
  {
   "cell_type": "code",
   "execution_count": 84,
   "id": "31c2757b",
   "metadata": {
    "scrolled": false
   },
   "outputs": [
    {
     "data": {
      "text/plain": [
       "a    20\n",
       "b    30\n",
       "c    30\n",
       "d    40\n",
       "dtype: int64"
      ]
     },
     "execution_count": 84,
     "metadata": {},
     "output_type": "execute_result"
    }
   ],
   "source": [
    "scores"
   ]
  },
  {
   "cell_type": "code",
   "execution_count": 85,
   "id": "f37dfc2a",
   "metadata": {},
   "outputs": [
    {
     "data": {
      "text/plain": [
       "a     80\n",
       "b    120\n",
       "c    120\n",
       "d    160\n",
       "dtype: int64"
      ]
     },
     "execution_count": 85,
     "metadata": {},
     "output_type": "execute_result"
    }
   ],
   "source": [
    "scores * 4"
   ]
  },
  {
   "cell_type": "code",
   "execution_count": 76,
   "id": "3fcab458",
   "metadata": {},
   "outputs": [
    {
     "data": {
      "text/plain": [
       "30"
      ]
     },
     "execution_count": 76,
     "metadata": {},
     "output_type": "execute_result"
    }
   ],
   "source": [
    "scores['b']"
   ]
  },
  {
   "cell_type": "code",
   "execution_count": 77,
   "id": "98f125a3",
   "metadata": {},
   "outputs": [],
   "source": [
    "df = pd.DataFrame({\n",
    "    'Names' : ['Tolu', 'Mary', 'Janet', 'Yinka'],\n",
    "    'Scores' : [45, 34, 23, 67]\n",
    "})"
   ]
  },
  {
   "cell_type": "code",
   "execution_count": 78,
   "id": "a03be537",
   "metadata": {},
   "outputs": [
    {
     "data": {
      "text/html": [
       "<div>\n",
       "<style scoped>\n",
       "    .dataframe tbody tr th:only-of-type {\n",
       "        vertical-align: middle;\n",
       "    }\n",
       "\n",
       "    .dataframe tbody tr th {\n",
       "        vertical-align: top;\n",
       "    }\n",
       "\n",
       "    .dataframe thead th {\n",
       "        text-align: right;\n",
       "    }\n",
       "</style>\n",
       "<table border=\"1\" class=\"dataframe\">\n",
       "  <thead>\n",
       "    <tr style=\"text-align: right;\">\n",
       "      <th></th>\n",
       "      <th>Names</th>\n",
       "      <th>Scores</th>\n",
       "    </tr>\n",
       "  </thead>\n",
       "  <tbody>\n",
       "    <tr>\n",
       "      <th>0</th>\n",
       "      <td>Tolu</td>\n",
       "      <td>45</td>\n",
       "    </tr>\n",
       "    <tr>\n",
       "      <th>1</th>\n",
       "      <td>Mary</td>\n",
       "      <td>34</td>\n",
       "    </tr>\n",
       "    <tr>\n",
       "      <th>2</th>\n",
       "      <td>Janet</td>\n",
       "      <td>23</td>\n",
       "    </tr>\n",
       "    <tr>\n",
       "      <th>3</th>\n",
       "      <td>Yinka</td>\n",
       "      <td>67</td>\n",
       "    </tr>\n",
       "  </tbody>\n",
       "</table>\n",
       "</div>"
      ],
      "text/plain": [
       "   Names  Scores\n",
       "0   Tolu      45\n",
       "1   Mary      34\n",
       "2  Janet      23\n",
       "3  Yinka      67"
      ]
     },
     "execution_count": 78,
     "metadata": {},
     "output_type": "execute_result"
    }
   ],
   "source": [
    "df"
   ]
  },
  {
   "cell_type": "code",
   "execution_count": 79,
   "id": "a42a55eb",
   "metadata": {},
   "outputs": [
    {
     "data": {
      "text/plain": [
       "pandas.core.frame.DataFrame"
      ]
     },
     "execution_count": 79,
     "metadata": {},
     "output_type": "execute_result"
    }
   ],
   "source": [
    "type(df)"
   ]
  },
  {
   "cell_type": "code",
   "execution_count": null,
   "id": "d938e465",
   "metadata": {},
   "outputs": [],
   "source": []
  }
 ],
 "metadata": {
  "kernelspec": {
   "display_name": "Python 3 (ipykernel)",
   "language": "python",
   "name": "python3"
  },
  "language_info": {
   "codemirror_mode": {
    "name": "ipython",
    "version": 3
   },
   "file_extension": ".py",
   "mimetype": "text/x-python",
   "name": "python",
   "nbconvert_exporter": "python",
   "pygments_lexer": "ipython3",
   "version": "3.11.5"
  }
 },
 "nbformat": 4,
 "nbformat_minor": 5
}
